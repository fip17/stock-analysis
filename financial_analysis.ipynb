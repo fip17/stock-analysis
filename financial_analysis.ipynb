{
 "cells": [
  {
   "cell_type": "markdown",
   "metadata": {},
   "source": [
    "# Financial Analysis with the `stock_analysis` package\n",
    "In this chapter, we will build the [`stock_analysis`](https://github.com/stefmolin/stock-analysis) package using everything we learned in the book so far, and use it for some basic technical analysis of financial assets. Here is a breakdown of the classes we will use and their purposes:\n",
    "\n",
    "| Purpose | Class(es) | Module |\n",
    "| --- | --- | --- |\n",
    "| Collecting the data from various sources | `StockReader` | `stock_reader.py` |\n",
    "| Visualizing the data | `Visualizer`, `StockVisualizer`, `AssetGroupVisualizer` | `stock_visualizer.py` |\n",
    "| Calculating financial metrics | `StockAnalyzer`, `AssetGroupAnalyzer` | `stock_analyzer.py` |\n",
    "| Modeling the data | `StockModeler` | `stock_modeler.py` |\n",
    "\n",
    "## Data Collection\n",
    "The `StockReader` class in the `stock_analysis` package makes it easy to collect financial data, like stock market or bitcoin prices. We simply have to create an instance by specifying the date range. Then, we can grab the data:"
   ]
  },
  {
   "cell_type": "code",
   "execution_count": 2,
   "metadata": {
    "ExecuteTime": {
     "end_time": "2022-03-26T12:01:14.664243Z",
     "start_time": "2022-03-26T12:01:08.136754Z"
    }
   },
   "outputs": [
    {
     "name": "stdout",
     "output_type": "stream",
     "text": [
      "Collecting statsmodels==0.12.1\n",
      "\u001b[?25l  Downloading https://files.pythonhosted.org/packages/92/05/720894fff3ce6a5f5ebecd44e82657ba74b7ad30d42220c752bcb9226413/statsmodels-0.12.1-cp37-cp37m-macosx_10_13_x86_64.whl (9.6MB)\n",
      "\u001b[K    100% |████████████████████████████████| 9.6MB 4.0MB/s eta 0:00:01\n",
      "\u001b[?25hRequirement already satisfied: scipy>=1.1 in /Users/fip_16/opt/anaconda3/envs/tsa_course/lib/python3.7/site-packages (from statsmodels==0.12.1) (1.1.0)\n",
      "Requirement already satisfied: pandas>=0.21 in /Users/fip_16/opt/anaconda3/envs/tsa_course/lib/python3.7/site-packages (from statsmodels==0.12.1) (0.23.4)\n",
      "Requirement already satisfied: patsy>=0.5 in /Users/fip_16/opt/anaconda3/envs/tsa_course/lib/python3.7/site-packages (from statsmodels==0.12.1) (0.5.2)\n",
      "Requirement already satisfied: numpy>=1.15 in /Users/fip_16/opt/anaconda3/envs/tsa_course/lib/python3.7/site-packages (from statsmodels==0.12.1) (1.15.4)\n",
      "Requirement already satisfied: python-dateutil>=2.5.0 in /Users/fip_16/opt/anaconda3/envs/tsa_course/lib/python3.7/site-packages (from pandas>=0.21->statsmodels==0.12.1) (2.7.5)\n",
      "Requirement already satisfied: pytz>=2011k in /Users/fip_16/opt/anaconda3/envs/tsa_course/lib/python3.7/site-packages (from pandas>=0.21->statsmodels==0.12.1) (2018.7)\n",
      "Requirement already satisfied: six in /Users/fip_16/opt/anaconda3/envs/tsa_course/lib/python3.7/site-packages (from patsy>=0.5->statsmodels==0.12.1) (1.16.0)\n",
      "Installing collected packages: statsmodels\n",
      "  Found existing installation: statsmodels 0.9.0\n",
      "    Uninstalling statsmodels-0.9.0:\n",
      "      Successfully uninstalled statsmodels-0.9.0\n",
      "Successfully installed statsmodels-0.12.1\n"
     ]
    }
   ],
   "source": [
    "!pip install statsmodels==0.12.1"
   ]
  },
  {
   "cell_type": "code",
   "execution_count": 3,
   "metadata": {
    "ExecuteTime": {
     "end_time": "2022-03-26T12:01:21.658824Z",
     "start_time": "2022-03-26T12:01:21.091303Z"
    }
   },
   "outputs": [
    {
     "ename": "ValueError",
     "evalue": "numpy.ufunc size changed, may indicate binary incompatibility. Expected 216 from C header, got 192 from PyObject",
     "output_type": "error",
     "traceback": [
      "\u001b[0;31m---------------------------------------------------------------------------\u001b[0m",
      "\u001b[0;31mValueError\u001b[0m                                Traceback (most recent call last)",
      "\u001b[0;32m/var/folders/tp/cprc7yhd7yb2lp3wd2q0myxr0000gn/T/ipykernel_9097/3115910177.py\u001b[0m in \u001b[0;36m<module>\u001b[0;34m\u001b[0m\n\u001b[0;32m----> 1\u001b[0;31m \u001b[0;32mimport\u001b[0m \u001b[0mstock_analysis\u001b[0m\u001b[0;34m\u001b[0m\u001b[0;34m\u001b[0m\u001b[0m\n\u001b[0m\u001b[1;32m      2\u001b[0m \u001b[0;34m\u001b[0m\u001b[0m\n\u001b[1;32m      3\u001b[0m \u001b[0;31m# reader = stock_analysis.StockReader('2019-01-01', '2020-12-31')\u001b[0m\u001b[0;34m\u001b[0m\u001b[0;34m\u001b[0m\u001b[0;34m\u001b[0m\u001b[0m\n\u001b[1;32m      4\u001b[0m \u001b[0mreader\u001b[0m \u001b[0;34m=\u001b[0m \u001b[0mstock_analysis\u001b[0m\u001b[0;34m.\u001b[0m\u001b[0mStockReader\u001b[0m\u001b[0;34m(\u001b[0m\u001b[0;34m'2019-01-01'\u001b[0m\u001b[0;34m,\u001b[0m \u001b[0;34m'2020-12-31'\u001b[0m\u001b[0;34m)\u001b[0m\u001b[0;34m\u001b[0m\u001b[0;34m\u001b[0m\u001b[0m\n\u001b[1;32m      5\u001b[0m \u001b[0;34m\u001b[0m\u001b[0m\n",
      "\u001b[0;32m~/Library/CloudStorage/OneDrive-Personal/git/Molin/stock_analysis/__init__.py\u001b[0m in \u001b[0;36m<module>\u001b[0;34m\u001b[0m\n\u001b[1;32m      2\u001b[0m \u001b[0;34m\u001b[0m\u001b[0m\n\u001b[1;32m      3\u001b[0m \u001b[0;32mfrom\u001b[0m \u001b[0;34m.\u001b[0m\u001b[0mstock_analyzer\u001b[0m \u001b[0;32mimport\u001b[0m \u001b[0mStockAnalyzer\u001b[0m\u001b[0;34m,\u001b[0m \u001b[0mAssetGroupAnalyzer\u001b[0m\u001b[0;34m\u001b[0m\u001b[0;34m\u001b[0m\u001b[0m\n\u001b[0;32m----> 4\u001b[0;31m \u001b[0;32mfrom\u001b[0m \u001b[0;34m.\u001b[0m\u001b[0mstock_modeler\u001b[0m \u001b[0;32mimport\u001b[0m \u001b[0mStockModeler\u001b[0m\u001b[0;34m\u001b[0m\u001b[0;34m\u001b[0m\u001b[0m\n\u001b[0m\u001b[1;32m      5\u001b[0m \u001b[0;32mfrom\u001b[0m \u001b[0;34m.\u001b[0m\u001b[0mstock_reader\u001b[0m \u001b[0;32mimport\u001b[0m \u001b[0mStockReader\u001b[0m\u001b[0;34m\u001b[0m\u001b[0;34m\u001b[0m\u001b[0m\n\u001b[1;32m      6\u001b[0m \u001b[0;32mfrom\u001b[0m \u001b[0;34m.\u001b[0m\u001b[0mstock_visualizer\u001b[0m \u001b[0;32mimport\u001b[0m \u001b[0mStockVisualizer\u001b[0m\u001b[0;34m,\u001b[0m \u001b[0mAssetGroupVisualizer\u001b[0m\u001b[0;34m\u001b[0m\u001b[0;34m\u001b[0m\u001b[0m\n",
      "\u001b[0;32m~/Library/CloudStorage/OneDrive-Personal/git/Molin/stock_analysis/stock_modeler.py\u001b[0m in \u001b[0;36m<module>\u001b[0;34m\u001b[0m\n\u001b[1;32m      3\u001b[0m \u001b[0;32mimport\u001b[0m \u001b[0mmatplotlib\u001b[0m\u001b[0;34m.\u001b[0m\u001b[0mpyplot\u001b[0m \u001b[0;32mas\u001b[0m \u001b[0mplt\u001b[0m\u001b[0;34m\u001b[0m\u001b[0;34m\u001b[0m\u001b[0m\n\u001b[1;32m      4\u001b[0m \u001b[0;32mimport\u001b[0m \u001b[0mpandas\u001b[0m \u001b[0;32mas\u001b[0m \u001b[0mpd\u001b[0m\u001b[0;34m\u001b[0m\u001b[0;34m\u001b[0m\u001b[0m\n\u001b[0;32m----> 5\u001b[0;31m \u001b[0;32mfrom\u001b[0m \u001b[0mstatsmodels\u001b[0m\u001b[0;34m.\u001b[0m\u001b[0mtsa\u001b[0m\u001b[0;34m.\u001b[0m\u001b[0marima\u001b[0m\u001b[0;34m.\u001b[0m\u001b[0mmodel\u001b[0m \u001b[0;32mimport\u001b[0m \u001b[0mARIMA\u001b[0m\u001b[0;34m\u001b[0m\u001b[0;34m\u001b[0m\u001b[0m\n\u001b[0m\u001b[1;32m      6\u001b[0m \u001b[0;32mfrom\u001b[0m \u001b[0mstatsmodels\u001b[0m\u001b[0;34m.\u001b[0m\u001b[0mtsa\u001b[0m\u001b[0;34m.\u001b[0m\u001b[0mseasonal\u001b[0m \u001b[0;32mimport\u001b[0m \u001b[0mseasonal_decompose\u001b[0m\u001b[0;34m\u001b[0m\u001b[0;34m\u001b[0m\u001b[0m\n\u001b[1;32m      7\u001b[0m \u001b[0;32mimport\u001b[0m \u001b[0mstatsmodels\u001b[0m\u001b[0;34m.\u001b[0m\u001b[0mapi\u001b[0m \u001b[0;32mas\u001b[0m \u001b[0msm\u001b[0m\u001b[0;34m\u001b[0m\u001b[0;34m\u001b[0m\u001b[0m\n",
      "\u001b[0;32m~/opt/anaconda3/envs/tsa_course/lib/python3.7/site-packages/statsmodels/tsa/arima/model.py\u001b[0m in \u001b[0;36m<module>\u001b[0;34m\u001b[0m\n\u001b[1;32m     10\u001b[0m \u001b[0;34m\u001b[0m\u001b[0m\n\u001b[1;32m     11\u001b[0m \u001b[0;32mfrom\u001b[0m \u001b[0mstatsmodels\u001b[0m\u001b[0;34m.\u001b[0m\u001b[0mtools\u001b[0m\u001b[0;34m.\u001b[0m\u001b[0mdata\u001b[0m \u001b[0;32mimport\u001b[0m \u001b[0m_is_using_pandas\u001b[0m\u001b[0;34m\u001b[0m\u001b[0;34m\u001b[0m\u001b[0m\n\u001b[0;32m---> 12\u001b[0;31m \u001b[0;32mfrom\u001b[0m \u001b[0mstatsmodels\u001b[0m\u001b[0;34m.\u001b[0m\u001b[0mtsa\u001b[0m\u001b[0;34m.\u001b[0m\u001b[0mstatespace\u001b[0m \u001b[0;32mimport\u001b[0m \u001b[0msarimax\u001b[0m\u001b[0;34m\u001b[0m\u001b[0;34m\u001b[0m\u001b[0m\n\u001b[0m\u001b[1;32m     13\u001b[0m \u001b[0;32mfrom\u001b[0m \u001b[0mstatsmodels\u001b[0m\u001b[0;34m.\u001b[0m\u001b[0mtsa\u001b[0m\u001b[0;34m.\u001b[0m\u001b[0mstatespace\u001b[0m\u001b[0;34m.\u001b[0m\u001b[0mkalman_filter\u001b[0m \u001b[0;32mimport\u001b[0m \u001b[0mMEMORY_CONSERVE\u001b[0m\u001b[0;34m\u001b[0m\u001b[0;34m\u001b[0m\u001b[0m\n\u001b[1;32m     14\u001b[0m \u001b[0;32mfrom\u001b[0m \u001b[0mstatsmodels\u001b[0m\u001b[0;34m.\u001b[0m\u001b[0mtsa\u001b[0m\u001b[0;34m.\u001b[0m\u001b[0mstatespace\u001b[0m\u001b[0;34m.\u001b[0m\u001b[0mtools\u001b[0m \u001b[0;32mimport\u001b[0m \u001b[0mdiff\u001b[0m\u001b[0;34m\u001b[0m\u001b[0;34m\u001b[0m\u001b[0m\n",
      "\u001b[0;32m~/opt/anaconda3/envs/tsa_course/lib/python3.7/site-packages/statsmodels/tsa/statespace/sarimax.py\u001b[0m in \u001b[0;36m<module>\u001b[0;34m\u001b[0m\n\u001b[1;32m     17\u001b[0m \u001b[0;32mimport\u001b[0m \u001b[0mstatsmodels\u001b[0m\u001b[0;34m.\u001b[0m\u001b[0mbase\u001b[0m\u001b[0;34m.\u001b[0m\u001b[0mwrapper\u001b[0m \u001b[0;32mas\u001b[0m \u001b[0mwrap\u001b[0m\u001b[0;34m\u001b[0m\u001b[0;34m\u001b[0m\u001b[0m\n\u001b[1;32m     18\u001b[0m \u001b[0;34m\u001b[0m\u001b[0m\n\u001b[0;32m---> 19\u001b[0;31m \u001b[0;32mfrom\u001b[0m \u001b[0mstatsmodels\u001b[0m\u001b[0;34m.\u001b[0m\u001b[0mtsa\u001b[0m\u001b[0;34m.\u001b[0m\u001b[0marima\u001b[0m\u001b[0;34m.\u001b[0m\u001b[0mspecification\u001b[0m \u001b[0;32mimport\u001b[0m \u001b[0mSARIMAXSpecification\u001b[0m\u001b[0;34m\u001b[0m\u001b[0;34m\u001b[0m\u001b[0m\n\u001b[0m\u001b[1;32m     20\u001b[0m \u001b[0;32mfrom\u001b[0m \u001b[0mstatsmodels\u001b[0m\u001b[0;34m.\u001b[0m\u001b[0mtsa\u001b[0m\u001b[0;34m.\u001b[0m\u001b[0marima\u001b[0m\u001b[0;34m.\u001b[0m\u001b[0mparams\u001b[0m \u001b[0;32mimport\u001b[0m \u001b[0mSARIMAXParams\u001b[0m\u001b[0;34m\u001b[0m\u001b[0;34m\u001b[0m\u001b[0m\n\u001b[1;32m     21\u001b[0m \u001b[0;32mfrom\u001b[0m \u001b[0mstatsmodels\u001b[0m\u001b[0;34m.\u001b[0m\u001b[0mtsa\u001b[0m\u001b[0;34m.\u001b[0m\u001b[0mtsatools\u001b[0m \u001b[0;32mimport\u001b[0m \u001b[0mlagmat\u001b[0m\u001b[0;34m\u001b[0m\u001b[0;34m\u001b[0m\u001b[0m\n",
      "\u001b[0;32m~/opt/anaconda3/envs/tsa_course/lib/python3.7/site-packages/statsmodels/tsa/arima/specification.py\u001b[0m in \u001b[0;36m<module>\u001b[0;34m\u001b[0m\n\u001b[1;32m     10\u001b[0m \u001b[0;32mfrom\u001b[0m \u001b[0mstatsmodels\u001b[0m\u001b[0;34m.\u001b[0m\u001b[0mtools\u001b[0m\u001b[0;34m.\u001b[0m\u001b[0mdata\u001b[0m \u001b[0;32mimport\u001b[0m \u001b[0m_is_using_pandas\u001b[0m\u001b[0;34m\u001b[0m\u001b[0;34m\u001b[0m\u001b[0m\n\u001b[1;32m     11\u001b[0m \u001b[0;32mfrom\u001b[0m \u001b[0mstatsmodels\u001b[0m\u001b[0;34m.\u001b[0m\u001b[0mtsa\u001b[0m\u001b[0;34m.\u001b[0m\u001b[0mbase\u001b[0m\u001b[0;34m.\u001b[0m\u001b[0mtsa_model\u001b[0m \u001b[0;32mimport\u001b[0m \u001b[0mTimeSeriesModel\u001b[0m\u001b[0;34m\u001b[0m\u001b[0;34m\u001b[0m\u001b[0m\n\u001b[0;32m---> 12\u001b[0;31m from statsmodels.tsa.statespace.tools import (\n\u001b[0m\u001b[1;32m     13\u001b[0m     \u001b[0mis_invertible\u001b[0m\u001b[0;34m,\u001b[0m \u001b[0mconstrain_stationary_univariate\u001b[0m \u001b[0;32mas\u001b[0m \u001b[0mconstrain\u001b[0m\u001b[0;34m,\u001b[0m\u001b[0;34m\u001b[0m\u001b[0;34m\u001b[0m\u001b[0m\n\u001b[1;32m     14\u001b[0m     \u001b[0munconstrain_stationary_univariate\u001b[0m \u001b[0;32mas\u001b[0m \u001b[0munconstrain\u001b[0m\u001b[0;34m,\u001b[0m\u001b[0;34m\u001b[0m\u001b[0;34m\u001b[0m\u001b[0m\n",
      "\u001b[0;32m~/opt/anaconda3/envs/tsa_course/lib/python3.7/site-packages/statsmodels/tsa/statespace/tools.py\u001b[0m in \u001b[0;36m<module>\u001b[0;34m\u001b[0m\n\u001b[1;32m     12\u001b[0m \u001b[0;32mfrom\u001b[0m \u001b[0mstatsmodels\u001b[0m\u001b[0;34m.\u001b[0m\u001b[0mtools\u001b[0m\u001b[0;34m.\u001b[0m\u001b[0mdata\u001b[0m \u001b[0;32mimport\u001b[0m \u001b[0m_is_using_pandas\u001b[0m\u001b[0;34m\u001b[0m\u001b[0;34m\u001b[0m\u001b[0m\n\u001b[1;32m     13\u001b[0m \u001b[0;32mfrom\u001b[0m \u001b[0mscipy\u001b[0m\u001b[0;34m.\u001b[0m\u001b[0mlinalg\u001b[0m\u001b[0;34m.\u001b[0m\u001b[0mblas\u001b[0m \u001b[0;32mimport\u001b[0m \u001b[0mfind_best_blas_type\u001b[0m\u001b[0;34m\u001b[0m\u001b[0;34m\u001b[0m\u001b[0m\n\u001b[0;32m---> 14\u001b[0;31m from . import (_initialization, _representation, _kalman_filter,\n\u001b[0m\u001b[1;32m     15\u001b[0m                \u001b[0m_kalman_smoother\u001b[0m\u001b[0;34m,\u001b[0m \u001b[0m_simulation_smoother\u001b[0m\u001b[0;34m,\u001b[0m\u001b[0;34m\u001b[0m\u001b[0;34m\u001b[0m\u001b[0m\n\u001b[1;32m     16\u001b[0m                _cfa_simulation_smoother, _tools)\n",
      "\u001b[0;32mstatsmodels/tsa/statespace/_initialization.pyx\u001b[0m in \u001b[0;36minit statsmodels.tsa.statespace._initialization\u001b[0;34m()\u001b[0m\n",
      "\u001b[0;31mValueError\u001b[0m: numpy.ufunc size changed, may indicate binary incompatibility. Expected 216 from C header, got 192 from PyObject"
     ]
    }
   ],
   "source": [
    "import stock_analysis\n",
    "\n",
    "# reader = stock_analysis.StockReader('2019-01-01', '2020-12-31')\n",
    "reader = stock_analysis.StockReader('2019-01-01', '2020-12-31')\n",
    "\n",
    "\n",
    "# get faang data\n",
    "fb, aapl, amzn, nflx, goog = (\n",
    "    reader.get_ticker_data(ticker)\n",
    "    for ticker in ['FB', 'AAPL', 'AMZN', 'NFLX', 'GOOG']\n",
    ")\n",
    "\n",
    "# get S&P 500 data\n",
    "sp = reader.get_index_data('S&P 500')\n",
    "\n",
    "# get bitcoin data in USD\n",
    "bitcoin = reader.get_bitcoin_data('USD')"
   ]
  },
  {
   "cell_type": "code",
   "execution_count": null,
   "metadata": {},
   "outputs": [],
   "source": []
  },
  {
   "cell_type": "markdown",
   "metadata": {},
   "source": [
    "## EDA\n",
    "We can group our assets together in dataframes in order to perform EDA:"
   ]
  },
  {
   "cell_type": "code",
   "execution_count": 2,
   "metadata": {
    "ExecuteTime": {
     "end_time": "2022-03-26T11:20:46.737749Z",
     "start_time": "2022-03-26T11:20:46.418621Z"
    }
   },
   "outputs": [
    {
     "name": "stderr",
     "output_type": "stream",
     "text": [
      "/Users/fip_16/opt/anaconda3/lib/python3.9/site-packages/stock_analysis/utils.py:104: FutureWarning: The frame.append method is deprecated and will be removed from pandas in a future version. Use pandas.concat instead.\n",
      "  group_df = group_df.append(df, sort=True)\n",
      "/Users/fip_16/opt/anaconda3/lib/python3.9/site-packages/stock_analysis/utils.py:104: FutureWarning: The frame.append method is deprecated and will be removed from pandas in a future version. Use pandas.concat instead.\n",
      "  group_df = group_df.append(df, sort=True)\n",
      "/Users/fip_16/opt/anaconda3/lib/python3.9/site-packages/stock_analysis/utils.py:104: FutureWarning: The frame.append method is deprecated and will be removed from pandas in a future version. Use pandas.concat instead.\n",
      "  group_df = group_df.append(df, sort=True)\n",
      "/Users/fip_16/opt/anaconda3/lib/python3.9/site-packages/stock_analysis/utils.py:104: FutureWarning: The frame.append method is deprecated and will be removed from pandas in a future version. Use pandas.concat instead.\n",
      "  group_df = group_df.append(df, sort=True)\n",
      "/Users/fip_16/opt/anaconda3/lib/python3.9/site-packages/stock_analysis/utils.py:104: FutureWarning: The frame.append method is deprecated and will be removed from pandas in a future version. Use pandas.concat instead.\n",
      "  group_df = group_df.append(df, sort=True)\n",
      "/Users/fip_16/opt/anaconda3/lib/python3.9/site-packages/stock_analysis/utils.py:104: FutureWarning: The frame.append method is deprecated and will be removed from pandas in a future version. Use pandas.concat instead.\n",
      "  group_df = group_df.append(df, sort=True)\n",
      "/Users/fip_16/opt/anaconda3/lib/python3.9/site-packages/stock_analysis/utils.py:104: FutureWarning: The frame.append method is deprecated and will be removed from pandas in a future version. Use pandas.concat instead.\n",
      "  group_df = group_df.append(df, sort=True)\n",
      "/Users/fip_16/opt/anaconda3/lib/python3.9/site-packages/stock_analysis/utils.py:104: FutureWarning: The frame.append method is deprecated and will be removed from pandas in a future version. Use pandas.concat instead.\n",
      "  group_df = group_df.append(df, sort=True)\n",
      "/Users/fip_16/opt/anaconda3/lib/python3.9/site-packages/stock_analysis/utils.py:104: FutureWarning: The frame.append method is deprecated and will be removed from pandas in a future version. Use pandas.concat instead.\n",
      "  group_df = group_df.append(df, sort=True)\n",
      "/Users/fip_16/opt/anaconda3/lib/python3.9/site-packages/stock_analysis/utils.py:104: FutureWarning: The frame.append method is deprecated and will be removed from pandas in a future version. Use pandas.concat instead.\n",
      "  group_df = group_df.append(df, sort=True)\n",
      "/Users/fip_16/opt/anaconda3/lib/python3.9/site-packages/stock_analysis/utils.py:104: FutureWarning: The frame.append method is deprecated and will be removed from pandas in a future version. Use pandas.concat instead.\n",
      "  group_df = group_df.append(df, sort=True)\n",
      "/Users/fip_16/opt/anaconda3/lib/python3.9/site-packages/stock_analysis/utils.py:104: FutureWarning: The frame.append method is deprecated and will be removed from pandas in a future version. Use pandas.concat instead.\n",
      "  group_df = group_df.append(df, sort=True)\n",
      "/Users/fip_16/opt/anaconda3/lib/python3.9/site-packages/stock_analysis/utils.py:104: FutureWarning: The frame.append method is deprecated and will be removed from pandas in a future version. Use pandas.concat instead.\n",
      "  group_df = group_df.append(df, sort=True)\n",
      "/Users/fip_16/opt/anaconda3/lib/python3.9/site-packages/stock_analysis/utils.py:104: FutureWarning: The frame.append method is deprecated and will be removed from pandas in a future version. Use pandas.concat instead.\n",
      "  group_df = group_df.append(df, sort=True)\n",
      "/Users/fip_16/opt/anaconda3/lib/python3.9/site-packages/stock_analysis/utils.py:104: FutureWarning: The frame.append method is deprecated and will be removed from pandas in a future version. Use pandas.concat instead.\n",
      "  group_df = group_df.append(df, sort=True)\n",
      "/Users/fip_16/opt/anaconda3/lib/python3.9/site-packages/stock_analysis/utils.py:104: FutureWarning: The frame.append method is deprecated and will be removed from pandas in a future version. Use pandas.concat instead.\n",
      "  group_df = group_df.append(df, sort=True)\n",
      "/Users/fip_16/opt/anaconda3/lib/python3.9/site-packages/stock_analysis/utils.py:104: FutureWarning: The frame.append method is deprecated and will be removed from pandas in a future version. Use pandas.concat instead.\n",
      "  group_df = group_df.append(df, sort=True)\n",
      "/Users/fip_16/opt/anaconda3/lib/python3.9/site-packages/stock_analysis/utils.py:104: FutureWarning: The frame.append method is deprecated and will be removed from pandas in a future version. Use pandas.concat instead.\n",
      "  group_df = group_df.append(df, sort=True)\n"
     ]
    }
   ],
   "source": [
    "from stock_analysis.utils import group_stocks, describe_group\n",
    "\n",
    "faang = group_stocks(\n",
    "    {\n",
    "        'Facebook': fb, \n",
    "        'Apple': aapl, \n",
    "        'Amazon': amzn, \n",
    "        'Netflix': nflx, \n",
    "        'Google': goog\n",
    "    }\n",
    ")\n",
    "\n",
    "faang_sp = group_stocks(\n",
    "    {\n",
    "        'Facebook': fb, \n",
    "        'Apple': aapl, \n",
    "        'Amazon': amzn, \n",
    "        'Netflix': nflx, \n",
    "        'Google': goog,\n",
    "        'S&P 500': sp\n",
    "    }\n",
    ")\n",
    "\n",
    "all_assets = group_stocks(\n",
    "    {\n",
    "        'Bitcoin': bitcoin,\n",
    "        'S&P 500': sp,\n",
    "        'Facebook': fb, \n",
    "        'Apple': aapl, \n",
    "        'Amazon': amzn, \n",
    "        'Netflix': nflx, \n",
    "        'Google': goog\n",
    "    }\n",
    ")"
   ]
  },
  {
   "cell_type": "markdown",
   "metadata": {},
   "source": [
    "This makes it easy to describe them all at once:"
   ]
  },
  {
   "cell_type": "code",
   "execution_count": 3,
   "metadata": {
    "ExecuteTime": {
     "end_time": "2022-03-26T11:20:48.911467Z",
     "start_time": "2022-03-26T11:20:48.841475Z"
    }
   },
   "outputs": [
    {
     "data": {
      "text/html": [
       "<div>\n",
       "<style scoped>\n",
       "    .dataframe tbody tr th:only-of-type {\n",
       "        vertical-align: middle;\n",
       "    }\n",
       "\n",
       "    .dataframe tbody tr th {\n",
       "        vertical-align: top;\n",
       "    }\n",
       "\n",
       "    .dataframe thead th {\n",
       "        text-align: right;\n",
       "    }\n",
       "</style>\n",
       "<table border=\"1\" class=\"dataframe\">\n",
       "  <thead>\n",
       "    <tr style=\"text-align: right;\">\n",
       "      <th>name</th>\n",
       "      <th>Amazon</th>\n",
       "      <th>Apple</th>\n",
       "      <th>Bitcoin</th>\n",
       "      <th>Facebook</th>\n",
       "      <th>Google</th>\n",
       "      <th>Netflix</th>\n",
       "      <th>S&amp;P 500</th>\n",
       "    </tr>\n",
       "  </thead>\n",
       "  <tbody>\n",
       "    <tr>\n",
       "      <th>count</th>\n",
       "      <td>505.000000</td>\n",
       "      <td>505.000000</td>\n",
       "      <td>731.000000</td>\n",
       "      <td>505.000000</td>\n",
       "      <td>505.000000</td>\n",
       "      <td>505.000000</td>\n",
       "      <td>505.000000</td>\n",
       "    </tr>\n",
       "    <tr>\n",
       "      <th>mean</th>\n",
       "      <td>2235.904988</td>\n",
       "      <td>73.748386</td>\n",
       "      <td>9258.357421</td>\n",
       "      <td>208.146574</td>\n",
       "      <td>1335.188544</td>\n",
       "      <td>387.966593</td>\n",
       "      <td>3065.907599</td>\n",
       "    </tr>\n",
       "    <tr>\n",
       "      <th>std</th>\n",
       "      <td>594.306346</td>\n",
       "      <td>27.280933</td>\n",
       "      <td>4025.954725</td>\n",
       "      <td>39.665111</td>\n",
       "      <td>200.793911</td>\n",
       "      <td>78.931238</td>\n",
       "      <td>292.376435</td>\n",
       "    </tr>\n",
       "    <tr>\n",
       "      <th>min</th>\n",
       "      <td>1500.280029</td>\n",
       "      <td>35.547501</td>\n",
       "      <td>3399.471680</td>\n",
       "      <td>131.740005</td>\n",
       "      <td>1016.059998</td>\n",
       "      <td>254.589996</td>\n",
       "      <td>2237.399902</td>\n",
       "    </tr>\n",
       "    <tr>\n",
       "      <th>25%</th>\n",
       "      <td>1785.660034</td>\n",
       "      <td>50.782501</td>\n",
       "      <td>7218.593750</td>\n",
       "      <td>180.029999</td>\n",
       "      <td>1169.949951</td>\n",
       "      <td>329.089996</td>\n",
       "      <td>2870.719971</td>\n",
       "    </tr>\n",
       "    <tr>\n",
       "      <th>50%</th>\n",
       "      <td>1904.280029</td>\n",
       "      <td>66.730003</td>\n",
       "      <td>9143.582031</td>\n",
       "      <td>196.770004</td>\n",
       "      <td>1295.280029</td>\n",
       "      <td>364.369995</td>\n",
       "      <td>3005.469971</td>\n",
       "    </tr>\n",
       "    <tr>\n",
       "      <th>75%</th>\n",
       "      <td>2890.300049</td>\n",
       "      <td>91.632500</td>\n",
       "      <td>10579.554688</td>\n",
       "      <td>235.940002</td>\n",
       "      <td>1476.229980</td>\n",
       "      <td>469.959991</td>\n",
       "      <td>3276.020020</td>\n",
       "    </tr>\n",
       "    <tr>\n",
       "      <th>max</th>\n",
       "      <td>3531.449951</td>\n",
       "      <td>136.690002</td>\n",
       "      <td>29001.720703</td>\n",
       "      <td>303.910004</td>\n",
       "      <td>1827.989990</td>\n",
       "      <td>556.549988</td>\n",
       "      <td>3756.070068</td>\n",
       "    </tr>\n",
       "  </tbody>\n",
       "</table>\n",
       "</div>"
      ],
      "text/plain": [
       "name        Amazon       Apple       Bitcoin    Facebook       Google  \\\n",
       "count   505.000000  505.000000    731.000000  505.000000   505.000000   \n",
       "mean   2235.904988   73.748386   9258.357421  208.146574  1335.188544   \n",
       "std     594.306346   27.280933   4025.954725   39.665111   200.793911   \n",
       "min    1500.280029   35.547501   3399.471680  131.740005  1016.059998   \n",
       "25%    1785.660034   50.782501   7218.593750  180.029999  1169.949951   \n",
       "50%    1904.280029   66.730003   9143.582031  196.770004  1295.280029   \n",
       "75%    2890.300049   91.632500  10579.554688  235.940002  1476.229980   \n",
       "max    3531.449951  136.690002  29001.720703  303.910004  1827.989990   \n",
       "\n",
       "name      Netflix      S&P 500  \n",
       "count  505.000000   505.000000  \n",
       "mean   387.966593  3065.907599  \n",
       "std     78.931238   292.376435  \n",
       "min    254.589996  2237.399902  \n",
       "25%    329.089996  2870.719971  \n",
       "50%    364.369995  3005.469971  \n",
       "75%    469.959991  3276.020020  \n",
       "max    556.549988  3756.070068  "
      ]
     },
     "execution_count": 3,
     "metadata": {},
     "output_type": "execute_result"
    }
   ],
   "source": [
    "describe_group(all_assets).loc['close',]"
   ]
  },
  {
   "cell_type": "markdown",
   "metadata": {},
   "source": [
    "### Visualizations\n",
    "The `StockVisualizer` class makes it easy to create a variety of visualizations for financial analysis. We simply pass in the dataframe of the asset we want to visualize:"
   ]
  },
  {
   "cell_type": "code",
   "execution_count": 4,
   "metadata": {
    "ExecuteTime": {
     "end_time": "2022-03-26T11:20:50.598193Z",
     "start_time": "2022-03-26T11:20:50.594132Z"
    }
   },
   "outputs": [],
   "source": [
    "%matplotlib inline\n",
    "import matplotlib.pyplot as plt\n",
    "\n",
    "netflix_viz = stock_analysis.StockVisualizer(nflx)"
   ]
  },
  {
   "cell_type": "markdown",
   "metadata": {},
   "source": [
    "We can use the moving average to smooth out the trend for the stock. Notice that, in the shaded region, the 90-day moving average is acting like a ceiling for the stock price:"
   ]
  },
  {
   "cell_type": "code",
   "execution_count": 10,
   "metadata": {
    "ExecuteTime": {
     "end_time": "2022-03-26T11:24:41.962021Z",
     "start_time": "2022-03-26T11:24:41.810362Z"
    }
   },
   "outputs": [
    {
     "ename": "TypeError",
     "evalue": "super(type, obj): obj must be an instance or subtype of type",
     "output_type": "error",
     "traceback": [
      "\u001b[0;31m---------------------------------------------------------------------------\u001b[0m",
      "\u001b[0;31mTypeError\u001b[0m                                 Traceback (most recent call last)",
      "\u001b[0;32m/var/folders/tp/cprc7yhd7yb2lp3wd2q0myxr0000gn/T/ipykernel_4991/2343915783.py\u001b[0m in \u001b[0;36m<module>\u001b[0;34m\u001b[0m\n\u001b[0;32m----> 1\u001b[0;31m \u001b[0max\u001b[0m \u001b[0;34m=\u001b[0m \u001b[0mnetflix_viz\u001b[0m\u001b[0;34m.\u001b[0m\u001b[0mmoving_average\u001b[0m\u001b[0;34m(\u001b[0m\u001b[0;34m'close'\u001b[0m\u001b[0;34m,\u001b[0m \u001b[0;34m[\u001b[0m\u001b[0;34m'30D'\u001b[0m\u001b[0;34m,\u001b[0m \u001b[0;34m'90D'\u001b[0m\u001b[0;34m]\u001b[0m\u001b[0;34m)\u001b[0m\u001b[0;34m\u001b[0m\u001b[0;34m\u001b[0m\u001b[0m\n\u001b[0m\u001b[1;32m      2\u001b[0m netflix_viz.shade_region(\n\u001b[1;32m      3\u001b[0m     \u001b[0max\u001b[0m\u001b[0;34m,\u001b[0m \u001b[0mx\u001b[0m\u001b[0;34m=\u001b[0m\u001b[0;34m(\u001b[0m\u001b[0;34m'2019-10-01'\u001b[0m\u001b[0;34m,\u001b[0m \u001b[0;34m'2020-07-01'\u001b[0m\u001b[0;34m)\u001b[0m\u001b[0;34m,\u001b[0m \u001b[0mcolor\u001b[0m\u001b[0;34m=\u001b[0m\u001b[0;34m'blue'\u001b[0m\u001b[0;34m,\u001b[0m \u001b[0malpha\u001b[0m\u001b[0;34m=\u001b[0m\u001b[0;36m0.1\u001b[0m\u001b[0;34m\u001b[0m\u001b[0;34m\u001b[0m\u001b[0m\n\u001b[1;32m      4\u001b[0m )\n\u001b[1;32m      5\u001b[0m \u001b[0max\u001b[0m\u001b[0;34m.\u001b[0m\u001b[0mset\u001b[0m\u001b[0;34m(\u001b[0m\u001b[0mtitle\u001b[0m\u001b[0;34m=\u001b[0m\u001b[0;34m'Netflix Closing Price'\u001b[0m\u001b[0;34m,\u001b[0m \u001b[0mylabel\u001b[0m\u001b[0;34m=\u001b[0m\u001b[0;34m'price ($)'\u001b[0m\u001b[0;34m)\u001b[0m\u001b[0;34m\u001b[0m\u001b[0;34m\u001b[0m\u001b[0m\n",
      "\u001b[0;32m~/opt/anaconda3/lib/python3.9/site-packages/stock_analysis/stock_visualizer.py\u001b[0m in \u001b[0;36mmoving_average\u001b[0;34m(self, column, periods, **kwargs)\u001b[0m\n\u001b[1;32m    130\u001b[0m             \u001b[0mA\u001b[0m \u001b[0mmatplotlib\u001b[0m\u001b[0;31m \u001b[0m\u001b[0;31m`\u001b[0m\u001b[0mAxes\u001b[0m\u001b[0;31m`\u001b[0m \u001b[0mobject\u001b[0m\u001b[0;34m.\u001b[0m\u001b[0;34m\u001b[0m\u001b[0;34m\u001b[0m\u001b[0m\n\u001b[1;32m    131\u001b[0m         \"\"\"\n\u001b[0;32m--> 132\u001b[0;31m         return self._window_calc(\n\u001b[0m\u001b[1;32m    133\u001b[0m             \u001b[0mcolumn\u001b[0m\u001b[0;34m,\u001b[0m \u001b[0mperiods\u001b[0m\u001b[0;34m,\u001b[0m \u001b[0mname\u001b[0m\u001b[0;34m=\u001b[0m\u001b[0;34m'MA'\u001b[0m\u001b[0;34m,\u001b[0m\u001b[0;34m\u001b[0m\u001b[0;34m\u001b[0m\u001b[0m\n\u001b[1;32m    134\u001b[0m             \u001b[0mfunc\u001b[0m\u001b[0;34m=\u001b[0m\u001b[0mpd\u001b[0m\u001b[0;34m.\u001b[0m\u001b[0mDataFrame\u001b[0m\u001b[0;34m.\u001b[0m\u001b[0mresample\u001b[0m\u001b[0;34m,\u001b[0m \u001b[0mnamed_arg\u001b[0m\u001b[0;34m=\u001b[0m\u001b[0;34m'rule'\u001b[0m\u001b[0;34m,\u001b[0m \u001b[0;34m**\u001b[0m\u001b[0mkwargs\u001b[0m\u001b[0;34m\u001b[0m\u001b[0;34m\u001b[0m\u001b[0m\n",
      "\u001b[0;32m~/opt/anaconda3/lib/python3.9/site-packages/stock_analysis/stock_visualizer.py\u001b[0m in \u001b[0;36m_window_calc\u001b[0;34m(self, column, periods, name, func, named_arg, **kwargs)\u001b[0m\n\u001b[1;32m    369\u001b[0m         \u001b[0max\u001b[0m \u001b[0;34m=\u001b[0m \u001b[0mself\u001b[0m\u001b[0;34m.\u001b[0m\u001b[0mdata\u001b[0m\u001b[0;34m.\u001b[0m\u001b[0mplot\u001b[0m\u001b[0;34m(\u001b[0m\u001b[0my\u001b[0m\u001b[0;34m=\u001b[0m\u001b[0mcolumn\u001b[0m\u001b[0;34m,\u001b[0m \u001b[0;34m**\u001b[0m\u001b[0mkwargs\u001b[0m\u001b[0;34m)\u001b[0m\u001b[0;34m\u001b[0m\u001b[0;34m\u001b[0m\u001b[0m\n\u001b[1;32m    370\u001b[0m         \u001b[0;32mfor\u001b[0m \u001b[0mperiod\u001b[0m \u001b[0;32min\u001b[0m \u001b[0mself\u001b[0m\u001b[0;34m.\u001b[0m\u001b[0m_iter_handler\u001b[0m\u001b[0;34m(\u001b[0m\u001b[0mperiods\u001b[0m\u001b[0;34m)\u001b[0m\u001b[0;34m:\u001b[0m\u001b[0;34m\u001b[0m\u001b[0;34m\u001b[0m\u001b[0m\n\u001b[0;32m--> 371\u001b[0;31m             self.data[column].pipe(\n\u001b[0m\u001b[1;32m    372\u001b[0m                 \u001b[0mfunc\u001b[0m\u001b[0;34m,\u001b[0m \u001b[0;34m**\u001b[0m\u001b[0;34m{\u001b[0m\u001b[0mnamed_arg\u001b[0m\u001b[0;34m:\u001b[0m \u001b[0mperiod\u001b[0m\u001b[0;34m}\u001b[0m\u001b[0;34m\u001b[0m\u001b[0;34m\u001b[0m\u001b[0m\n\u001b[1;32m    373\u001b[0m             \u001b[0;34m)\u001b[0m\u001b[0;34m.\u001b[0m\u001b[0mmean\u001b[0m\u001b[0;34m(\u001b[0m\u001b[0;34m)\u001b[0m\u001b[0;34m.\u001b[0m\u001b[0mplot\u001b[0m\u001b[0;34m(\u001b[0m\u001b[0;34m\u001b[0m\u001b[0;34m\u001b[0m\u001b[0m\n",
      "\u001b[0;32m~/opt/anaconda3/lib/python3.9/site-packages/pandas/core/generic.py\u001b[0m in \u001b[0;36mpipe\u001b[0;34m(self, func, *args, **kwargs)\u001b[0m\n\u001b[1;32m   5518\u001b[0m         ...  )  # doctest: +SKIP\n\u001b[1;32m   5519\u001b[0m         \"\"\"\n\u001b[0;32m-> 5520\u001b[0;31m         \u001b[0;32mreturn\u001b[0m \u001b[0mcom\u001b[0m\u001b[0;34m.\u001b[0m\u001b[0mpipe\u001b[0m\u001b[0;34m(\u001b[0m\u001b[0mself\u001b[0m\u001b[0;34m,\u001b[0m \u001b[0mfunc\u001b[0m\u001b[0;34m,\u001b[0m \u001b[0;34m*\u001b[0m\u001b[0margs\u001b[0m\u001b[0;34m,\u001b[0m \u001b[0;34m**\u001b[0m\u001b[0mkwargs\u001b[0m\u001b[0;34m)\u001b[0m\u001b[0;34m\u001b[0m\u001b[0;34m\u001b[0m\u001b[0m\n\u001b[0m\u001b[1;32m   5521\u001b[0m \u001b[0;34m\u001b[0m\u001b[0m\n\u001b[1;32m   5522\u001b[0m     \u001b[0;31m# ----------------------------------------------------------------------\u001b[0m\u001b[0;34m\u001b[0m\u001b[0;34m\u001b[0m\u001b[0m\n",
      "\u001b[0;32m~/opt/anaconda3/lib/python3.9/site-packages/pandas/core/common.py\u001b[0m in \u001b[0;36mpipe\u001b[0;34m(obj, func, *args, **kwargs)\u001b[0m\n\u001b[1;32m    495\u001b[0m         \u001b[0;32mreturn\u001b[0m \u001b[0mfunc\u001b[0m\u001b[0;34m(\u001b[0m\u001b[0;34m*\u001b[0m\u001b[0margs\u001b[0m\u001b[0;34m,\u001b[0m \u001b[0;34m**\u001b[0m\u001b[0mkwargs\u001b[0m\u001b[0;34m)\u001b[0m\u001b[0;34m\u001b[0m\u001b[0;34m\u001b[0m\u001b[0m\n\u001b[1;32m    496\u001b[0m     \u001b[0;32melse\u001b[0m\u001b[0;34m:\u001b[0m\u001b[0;34m\u001b[0m\u001b[0;34m\u001b[0m\u001b[0m\n\u001b[0;32m--> 497\u001b[0;31m         \u001b[0;32mreturn\u001b[0m \u001b[0mfunc\u001b[0m\u001b[0;34m(\u001b[0m\u001b[0mobj\u001b[0m\u001b[0;34m,\u001b[0m \u001b[0;34m*\u001b[0m\u001b[0margs\u001b[0m\u001b[0;34m,\u001b[0m \u001b[0;34m**\u001b[0m\u001b[0mkwargs\u001b[0m\u001b[0;34m)\u001b[0m\u001b[0;34m\u001b[0m\u001b[0;34m\u001b[0m\u001b[0m\n\u001b[0m\u001b[1;32m    498\u001b[0m \u001b[0;34m\u001b[0m\u001b[0m\n\u001b[1;32m    499\u001b[0m \u001b[0;34m\u001b[0m\u001b[0m\n",
      "\u001b[0;32m~/opt/anaconda3/lib/python3.9/site-packages/pandas/core/frame.py\u001b[0m in \u001b[0;36mresample\u001b[0;34m(self, rule, axis, closed, label, convention, kind, loffset, base, on, level, origin, offset)\u001b[0m\n\u001b[1;32m  10533\u001b[0m         \u001b[0moffset\u001b[0m\u001b[0;34m:\u001b[0m \u001b[0mTimedeltaConvertibleTypes\u001b[0m \u001b[0;34m|\u001b[0m \u001b[0;32mNone\u001b[0m \u001b[0;34m=\u001b[0m \u001b[0;32mNone\u001b[0m\u001b[0;34m,\u001b[0m\u001b[0;34m\u001b[0m\u001b[0;34m\u001b[0m\u001b[0m\n\u001b[1;32m  10534\u001b[0m     ) -> Resampler:\n\u001b[0;32m> 10535\u001b[0;31m         return super().resample(\n\u001b[0m\u001b[1;32m  10536\u001b[0m             \u001b[0mrule\u001b[0m\u001b[0;34m=\u001b[0m\u001b[0mrule\u001b[0m\u001b[0;34m,\u001b[0m\u001b[0;34m\u001b[0m\u001b[0;34m\u001b[0m\u001b[0m\n\u001b[1;32m  10537\u001b[0m             \u001b[0maxis\u001b[0m\u001b[0;34m=\u001b[0m\u001b[0maxis\u001b[0m\u001b[0;34m,\u001b[0m\u001b[0;34m\u001b[0m\u001b[0;34m\u001b[0m\u001b[0m\n",
      "\u001b[0;31mTypeError\u001b[0m: super(type, obj): obj must be an instance or subtype of type"
     ]
    },
    {
     "data": {
      "image/png": "[encoded data removed]",
      "text/plain": [
       "<Figure size 432x288 with 1 Axes>"
      ]
     },
     "metadata": {
      "needs_background": "light"
     },
     "output_type": "display_data"
    }
   ],
   "source": [
    "ax = netflix_viz.moving_average('close', ['30D', '90D'])\n",
    "netflix_viz.shade_region(\n",
    "    ax, x=('2019-10-01', '2020-07-01'), color='blue', alpha=0.1\n",
    ")\n",
    "ax.set(title='Netflix Closing Price', ylabel='price ($)')"
   ]
  },
  {
   "cell_type": "markdown",
   "metadata": {},
   "source": [
    "The moving average may be used to determine support and resistance levels. Support exerts upward pressure on the stock price (lower prices get people to buy) and resistance exerts downward force on the stock price (high prices cause people to sell):"
   ]
  },
  {
   "cell_type": "code",
   "execution_count": null,
   "metadata": {
    "ExecuteTime": {
     "end_time": "2022-03-26T11:19:50.975771Z",
     "start_time": "2022-03-26T11:19:50.975759Z"
    }
   },
   "outputs": [],
   "source": [
    "from visual_aids import finance_viz\n",
    "_ = finance_viz.support_and_resistance()"
   ]
  },
  {
   "cell_type": "markdown",
   "metadata": {},
   "source": [
    "Sometimes exponential smoothing makes more sense because we can place higher importance on more recent values:"
   ]
  },
  {
   "cell_type": "code",
   "execution_count": null,
   "metadata": {
    "ExecuteTime": {
     "end_time": "2022-03-26T11:19:50.976873Z",
     "start_time": "2022-03-26T11:19:50.976858Z"
    }
   },
   "outputs": [],
   "source": [
    "ax = netflix_viz.exp_smoothing('close', [30, 90])\n",
    "netflix_viz.shade_region(\n",
    "    ax, x=('2020-04-01', '2020-10-01'), color='blue', alpha=0.1\n",
    ")\n",
    "ax.set(title='Netflix Closing Price', ylabel='price ($)')"
   ]
  },
  {
   "cell_type": "markdown",
   "metadata": {},
   "source": [
    "---\n",
    "\n",
    "**OPTIONAL SECTION**: Interactive Visualization of Moving Averages\n",
    "\n",
    "---\n",
    "\n",
    "We will now use widgets to create an interactive plot to see what different windows do to the moving average and exponentially smoothed moving average. Using the widget backend requires `ipympl`, which we installed back in chapter 1. However, depending on your Jupyter setup and machine you may also need to install `node.js` and with run a few commands from the command line. Try to run the cells below, and if that doesn't work follow the installation instructions [here](https://github.com/matplotlib/jupyter-matplotlib). Make sure to restart the kernel when you are set up.\n",
    "\n",
    "First, we run this magic to enable the widgets back-end:"
   ]
  },
  {
   "cell_type": "code",
   "execution_count": null,
   "metadata": {
    "ExecuteTime": {
     "end_time": "2022-03-26T11:19:50.977762Z",
     "start_time": "2022-03-26T11:19:50.977750Z"
    }
   },
   "outputs": [],
   "source": [
    "%matplotlib widget"
   ]
  },
  {
   "cell_type": "markdown",
   "metadata": {},
   "source": [
    "Next, we run the code to generate the interactive visualization. This uses the `interact()` function from `ipywidgets`:"
   ]
  },
  {
   "cell_type": "code",
   "execution_count": null,
   "metadata": {
    "ExecuteTime": {
     "end_time": "2022-03-26T11:19:50.978937Z",
     "start_time": "2022-03-26T11:19:50.978921Z"
    }
   },
   "outputs": [],
   "source": [
    "%matplotlib widget\n",
    "from ipywidgets import interact\n",
    "\n",
    "def moving_averages(viz):\n",
    "    def plot_viz(period=20, exponentially_smoothed=False):\n",
    "        if exponentially_smoothed:\n",
    "            ax = netflix_viz.exp_smoothing('close', period)\n",
    "        else:\n",
    "            ax = netflix_viz.moving_average('close', str(period) + 'D')\n",
    "        \n",
    "        ax.set(title='Netflix Closing Price', ylabel='price ($)')\n",
    "    \n",
    "    return plot_viz\n",
    "interact(moving_averages(netflix_viz), period=(5, 200, 5), exponentially_smoothed=False);"
   ]
  },
  {
   "cell_type": "markdown",
   "metadata": {},
   "source": [
    "*More information on the `interact()` function can be found [here](https://ipywidgets.readthedocs.io/en/stable/examples/Using%20Interact.html).*\n",
    "\n",
    "---\n",
    "\n",
    "When finished with the interactive visualization, be sure to switch back to `inline` plots for the rest of the notebook:"
   ]
  },
  {
   "cell_type": "code",
   "execution_count": null,
   "metadata": {
    "ExecuteTime": {
     "end_time": "2022-03-26T11:19:50.979906Z",
     "start_time": "2022-03-26T11:19:50.979894Z"
    }
   },
   "outputs": [],
   "source": [
    "%matplotlib inline"
   ]
  },
  {
   "cell_type": "markdown",
   "metadata": {},
   "source": [
    "---\n",
    "\n",
    "**END OPTIONAL SECTION**\n",
    "\n",
    "---\n",
    "\n",
    "Let's take a look at the effect of after-hours trading:"
   ]
  },
  {
   "cell_type": "code",
   "execution_count": null,
   "metadata": {
    "ExecuteTime": {
     "end_time": "2022-03-26T11:19:50.981230Z",
     "start_time": "2022-03-26T11:19:50.981219Z"
    }
   },
   "outputs": [],
   "source": [
    "netflix_viz.after_hours_trades()"
   ]
  },
  {
   "cell_type": "markdown",
   "metadata": {},
   "source": [
    "We can use a **candlestick plot** to study the OHLC data. More information on reading and interpreting this can be found [here](https://www.investopedia.com/trading/candlestick-charting-what-is-it/)."
   ]
  },
  {
   "cell_type": "code",
   "execution_count": null,
   "metadata": {
    "ExecuteTime": {
     "end_time": "2022-03-26T11:19:50.982377Z",
     "start_time": "2022-03-26T11:19:50.982365Z"
    }
   },
   "outputs": [],
   "source": [
    "netflix_viz.candlestick(resample='2W', volume=True, xrotation=90, datetime_format='%Y-%b -')"
   ]
  },
  {
   "cell_type": "markdown",
   "metadata": {},
   "source": [
    "The `mplfinance` package uses it's own stylesheets for plotting, so let's restore the defaults:"
   ]
  },
  {
   "cell_type": "code",
   "execution_count": null,
   "metadata": {
    "ExecuteTime": {
     "end_time": "2022-03-26T11:19:50.983231Z",
     "start_time": "2022-03-26T11:19:50.983219Z"
    }
   },
   "outputs": [],
   "source": [
    "import matplotlib as mpl\n",
    "mpl.rcdefaults()\n",
    "%matplotlib inline"
   ]
  },
  {
   "cell_type": "markdown",
   "metadata": {},
   "source": [
    "We can use a joint plot to see how Netflix compared to the S&P 500:"
   ]
  },
  {
   "cell_type": "code",
   "execution_count": null,
   "metadata": {
    "ExecuteTime": {
     "end_time": "2022-03-26T11:19:50.984325Z",
     "start_time": "2022-03-26T11:19:50.984309Z"
    }
   },
   "outputs": [],
   "source": [
    "netflix_viz.jointplot(sp, 'close')"
   ]
  },
  {
   "cell_type": "markdown",
   "metadata": {},
   "source": [
    "We can also use the `correlation_heatmap()` function to look at the correlation of daily percent change. Here, we compare with Amazon:"
   ]
  },
  {
   "cell_type": "code",
   "execution_count": null,
   "metadata": {
    "ExecuteTime": {
     "end_time": "2022-03-26T11:19:50.985284Z",
     "start_time": "2022-03-26T11:19:50.985272Z"
    }
   },
   "outputs": [],
   "source": [
    "netflix_viz.correlation_heatmap(amzn)"
   ]
  },
  {
   "cell_type": "markdown",
   "metadata": {},
   "source": [
    "We can use the `fill_between_other()` method to compare Netflix's stock price over time to another asset. Here, we look at Tesla:"
   ]
  },
  {
   "cell_type": "code",
   "execution_count": null,
   "metadata": {
    "ExecuteTime": {
     "end_time": "2022-03-26T11:19:50.986303Z",
     "start_time": "2022-03-26T11:19:50.986286Z"
    }
   },
   "outputs": [],
   "source": [
    "tsla = reader.get_ticker_data('TSLA')\n",
    "change_date = (tsla.close > nflx.close).idxmax()\n",
    "ax = netflix_viz.fill_between_other(tsla)\n",
    "netflix_viz.add_reference_line(\n",
    "    ax, \n",
    "    x=change_date, \n",
    "    color='k', \n",
    "    linestyle=':', \n",
    "    label=f'TSLA > NFLX {change_date:%Y-%m-%d}',\n",
    "    alpha=0.5\n",
    ")"
   ]
  },
  {
   "cell_type": "markdown",
   "metadata": {},
   "source": [
    "If we want to visualize groups of assets, we use the `AssetGroupVisualizer` class. Let's look at the correlations between the assets using percentage change:"
   ]
  },
  {
   "cell_type": "code",
   "execution_count": null,
   "metadata": {
    "ExecuteTime": {
     "end_time": "2022-03-26T11:19:50.987270Z",
     "start_time": "2022-03-26T11:19:50.987257Z"
    }
   },
   "outputs": [],
   "source": [
    "all_assets_viz = stock_analysis.AssetGroupVisualizer(all_assets)\n",
    "all_assets_viz.heatmap()"
   ]
  },
  {
   "cell_type": "markdown",
   "metadata": {},
   "source": [
    "Bitcoin is on a much larger scale so we have to use subplots to compare it to the stock market:"
   ]
  },
  {
   "cell_type": "code",
   "execution_count": null,
   "metadata": {
    "ExecuteTime": {
     "end_time": "2022-03-26T11:19:50.988450Z",
     "start_time": "2022-03-26T11:19:50.988436Z"
    }
   },
   "outputs": [],
   "source": [
    "faang_sp_viz = stock_analysis.AssetGroupVisualizer(faang_sp)\n",
    "bitcoin_viz = stock_analysis.StockVisualizer(bitcoin)\n",
    "\n",
    "fig, axes = plt.subplots(1, 2, figsize=(15, 5))\n",
    "faang_sp_viz.evolution_over_time('close', ax=axes[0], style=faang_sp_viz.group_by)\n",
    "bitcoin_viz.evolution_over_time('close', ax=axes[1], label='Bitcoin')"
   ]
  },
  {
   "cell_type": "markdown",
   "metadata": {},
   "source": [
    "### Additional Plots (not in text)\n",
    "We can view the effect that after-hours trading had on each of the FAANG stocks:"
   ]
  },
  {
   "cell_type": "code",
   "execution_count": null,
   "metadata": {
    "ExecuteTime": {
     "end_time": "2022-03-26T11:19:50.989353Z",
     "start_time": "2022-03-26T11:19:50.989340Z"
    }
   },
   "outputs": [],
   "source": [
    "faang_viz = stock_analysis.AssetGroupVisualizer(faang)\n",
    "faang_viz.after_hours_trades()"
   ]
  },
  {
   "cell_type": "markdown",
   "metadata": {},
   "source": [
    "We can look at what the exponentially smoothed moving averages look like for all FAANG stocks as well:"
   ]
  },
  {
   "cell_type": "code",
   "execution_count": null,
   "metadata": {
    "ExecuteTime": {
     "end_time": "2022-03-26T11:19:50.990395Z",
     "start_time": "2022-03-26T11:19:50.990382Z"
    }
   },
   "outputs": [],
   "source": [
    "faang_viz.exp_smoothing('close', 20)"
   ]
  },
  {
   "cell_type": "markdown",
   "metadata": {},
   "source": [
    "With short windows, both these smoothing methods perform similarly:"
   ]
  },
  {
   "cell_type": "code",
   "execution_count": null,
   "metadata": {
    "ExecuteTime": {
     "end_time": "2022-03-26T11:19:50.991509Z",
     "start_time": "2022-03-26T11:19:50.991498Z"
    }
   },
   "outputs": [],
   "source": [
    "faang_viz.moving_average('close', '20D')"
   ]
  },
  {
   "cell_type": "markdown",
   "metadata": {},
   "source": [
    "The distributions of closing price across the FAANG stocks are quite different:"
   ]
  },
  {
   "cell_type": "code",
   "execution_count": null,
   "metadata": {
    "ExecuteTime": {
     "end_time": "2022-03-26T11:19:50.992617Z",
     "start_time": "2022-03-26T11:19:50.992606Z"
    }
   },
   "outputs": [],
   "source": [
    "faang_viz.histogram('close')"
   ]
  },
  {
   "cell_type": "markdown",
   "metadata": {},
   "source": [
    "Viewing box plots we can easily see that Google and Amazon are on a much larger scale:"
   ]
  },
  {
   "cell_type": "code",
   "execution_count": null,
   "metadata": {
    "ExecuteTime": {
     "end_time": "2022-03-26T11:19:50.993564Z",
     "start_time": "2022-03-26T11:19:50.993549Z"
    }
   },
   "outputs": [],
   "source": [
    "faang_viz.boxplot('close')\n",
    "plt.yscale('log')"
   ]
  },
  {
   "cell_type": "markdown",
   "metadata": {},
   "source": [
    "Correlations between the stocks are weak:"
   ]
  },
  {
   "cell_type": "code",
   "execution_count": null,
   "metadata": {
    "ExecuteTime": {
     "end_time": "2022-03-26T11:19:50.994901Z",
     "start_time": "2022-03-26T11:19:50.994889Z"
    }
   },
   "outputs": [],
   "source": [
    "faang_viz.heatmap()"
   ]
  },
  {
   "cell_type": "markdown",
   "metadata": {},
   "source": [
    "We can view this information as scatter plots as well:"
   ]
  },
  {
   "cell_type": "code",
   "execution_count": null,
   "metadata": {
    "ExecuteTime": {
     "end_time": "2022-03-26T11:19:50.996060Z",
     "start_time": "2022-03-26T11:19:50.996042Z"
    }
   },
   "outputs": [],
   "source": [
    "faang_viz.pairplot()"
   ]
  },
  {
   "cell_type": "markdown",
   "metadata": {},
   "source": [
    "## Technical Analysis\n",
    "Technical analysis involves looking at metrics to understand the peformance of an asset.\n",
    "### Single Asset\n",
    "We can use the `StockAnalyzer` class to calculate metrics for us:"
   ]
  },
  {
   "cell_type": "code",
   "execution_count": null,
   "metadata": {
    "ExecuteTime": {
     "end_time": "2022-03-26T11:19:50.997353Z",
     "start_time": "2022-03-26T11:19:50.997341Z"
    }
   },
   "outputs": [],
   "source": [
    "nflx_analyzer = stock_analysis.StockAnalyzer(nflx)"
   ]
  },
  {
   "cell_type": "markdown",
   "metadata": {},
   "source": [
    "One such metric is annualized volatility:"
   ]
  },
  {
   "cell_type": "code",
   "execution_count": null,
   "metadata": {
    "ExecuteTime": {
     "end_time": "2022-03-26T11:19:50.998532Z",
     "start_time": "2022-03-26T11:19:50.998517Z"
    }
   },
   "outputs": [],
   "source": [
    "nflx_analyzer.annualized_volatility()"
   ]
  },
  {
   "cell_type": "markdown",
   "metadata": {},
   "source": [
    "### Asset Groups\n",
    "When working with groups, we use the `AssetGroupAnalyzer` class:"
   ]
  },
  {
   "cell_type": "code",
   "execution_count": null,
   "metadata": {
    "ExecuteTime": {
     "end_time": "2022-03-26T11:19:50.999538Z",
     "start_time": "2022-03-26T11:19:50.999526Z"
    }
   },
   "outputs": [],
   "source": [
    "all_assets_analyzer = stock_analysis.AssetGroupAnalyzer(all_assets)"
   ]
  },
  {
   "cell_type": "markdown",
   "metadata": {},
   "source": [
    "#### Coefficient of Variation\n",
    "We can check how large the standard deviation is in terms of the mean of the stock price as another way to look at volatility. This shows that bitcoin is the most volatile:"
   ]
  },
  {
   "cell_type": "code",
   "execution_count": null,
   "metadata": {
    "ExecuteTime": {
     "end_time": "2022-03-26T11:19:51.000781Z",
     "start_time": "2022-03-26T11:19:51.000769Z"
    }
   },
   "outputs": [],
   "source": [
    "all_assets_analyzer.analyze('cv')"
   ]
  },
  {
   "cell_type": "markdown",
   "metadata": {},
   "source": [
    "#### Annualized Volatility"
   ]
  },
  {
   "cell_type": "code",
   "execution_count": null,
   "metadata": {
    "ExecuteTime": {
     "end_time": "2022-03-26T11:19:51.002110Z",
     "start_time": "2022-03-26T11:19:51.002098Z"
    }
   },
   "outputs": [],
   "source": [
    "all_assets_analyzer.analyze('annualized_volatility')"
   ]
  },
  {
   "cell_type": "markdown",
   "metadata": {},
   "source": [
    "#### Bull Market\n",
    "We can check if the assets are in a bull market, meaning their value increased $\\geq$ 20% in the last 2 months:"
   ]
  },
  {
   "cell_type": "code",
   "execution_count": null,
   "metadata": {
    "ExecuteTime": {
     "end_time": "2022-03-26T11:19:51.003173Z",
     "start_time": "2022-03-26T11:19:51.003159Z"
    }
   },
   "outputs": [],
   "source": [
    "all_assets_analyzer.analyze('is_bull_market')"
   ]
  },
  {
   "cell_type": "markdown",
   "metadata": {},
   "source": [
    "#### Bear Market\n",
    "We can check if the assets are in a bear market, meaning their value dropped $\\geq$ 20% in the last 2 months:"
   ]
  },
  {
   "cell_type": "code",
   "execution_count": null,
   "metadata": {
    "ExecuteTime": {
     "end_time": "2022-03-26T11:19:51.004264Z",
     "start_time": "2022-03-26T11:19:51.004253Z"
    }
   },
   "outputs": [],
   "source": [
    "all_assets_analyzer.analyze('is_bear_market')"
   ]
  },
  {
   "cell_type": "markdown",
   "metadata": {},
   "source": [
    "#### Beta\n",
    "Beta tells us how an asset's performance correlates to a market index. A beta of 1 with the S&P 500 means the asset moves with the S&P 500. Notice bitcoin is below one because it is a different type of asset."
   ]
  },
  {
   "cell_type": "code",
   "execution_count": null,
   "metadata": {
    "ExecuteTime": {
     "end_time": "2022-03-26T11:19:51.005533Z",
     "start_time": "2022-03-26T11:19:51.005521Z"
    }
   },
   "outputs": [],
   "source": [
    "all_assets_analyzer.analyze('beta', index=sp)"
   ]
  },
  {
   "cell_type": "markdown",
   "metadata": {},
   "source": [
    "#### Alpha\n",
    "Alpha allows us to compare the returns of an asset to an index. We can compare to the S&P 500 using the risk-free rate of return. You can look up rates [here](https://www.treasury.gov/resource-center/data-chart-center/interest-rates/pages/TextView.aspx?data=yield) or use the `StockReader.get_risk_free_rate_of_return()` method. This shows that bitcoin much higher returns than the S&P 500 (due to scale) and Apple is the top performer among the FAANG stocks: "
   ]
  },
  {
   "cell_type": "code",
   "execution_count": null,
   "metadata": {
    "ExecuteTime": {
     "end_time": "2022-03-26T11:19:51.006482Z",
     "start_time": "2022-03-26T11:19:51.006471Z"
    }
   },
   "outputs": [],
   "source": [
    "r_f = reader.get_risk_free_rate_of_return()\n",
    "all_assets_analyzer.analyze('alpha', index=sp, r_f=r_f)"
   ]
  },
  {
   "cell_type": "markdown",
   "metadata": {},
   "source": [
    "#### Cumulative Returns\n",
    "Cumulative returns show us what we would have made for a dollar investment at time period 0. This can be multiplied by the actual investment to get the return:"
   ]
  },
  {
   "cell_type": "code",
   "execution_count": null,
   "metadata": {
    "ExecuteTime": {
     "end_time": "2022-03-26T11:19:51.007457Z",
     "start_time": "2022-03-26T11:19:51.007442Z"
    }
   },
   "outputs": [],
   "source": [
    "from cycler import cycler\n",
    "\n",
    "# to make this a little easier to see in the black and white text\n",
    "bw_viz_cycler = (\n",
    "    cycler(color=[plt.get_cmap('tab10')(x/10) for x in range(10)])\n",
    "    + cycler(linestyle=['dashed', 'solid', 'dashdot', 'dotted', 'solid'] * 2)\n",
    ")\n",
    "\n",
    "fig, axes = plt.subplots(1, 2, figsize=(15, 5))\n",
    "axes[0].set_prop_cycle(bw_viz_cycler)\n",
    "cumulative_returns = all_assets_analyzer.analyze('cumulative_returns')\n",
    "\n",
    "for name, data in cumulative_returns.items():\n",
    "    data.plot(\n",
    "        ax=axes[1] if name == 'Bitcoin' else axes[0], \n",
    "        label=name,\n",
    "        legend=True\n",
    "    )\n",
    "fig.suptitle('Cumulative Returns')"
   ]
  },
  {
   "cell_type": "markdown",
   "metadata": {},
   "source": [
    "## Modeling\n",
    "For modeling tasks, we can use the `StockModeler` class:"
   ]
  },
  {
   "cell_type": "code",
   "execution_count": null,
   "metadata": {
    "ExecuteTime": {
     "end_time": "2022-03-26T11:19:51.008425Z",
     "start_time": "2022-03-26T11:19:51.008414Z"
    }
   },
   "outputs": [],
   "source": [
    "from stock_analysis import StockModeler"
   ]
  },
  {
   "cell_type": "markdown",
   "metadata": {},
   "source": [
    "### Time Series Decomposition\n",
    "We can decompose the Netflix time series into its trend, seasonality component, and residuals:"
   ]
  },
  {
   "cell_type": "code",
   "execution_count": null,
   "metadata": {
    "ExecuteTime": {
     "end_time": "2022-03-26T11:19:51.009547Z",
     "start_time": "2022-03-26T11:19:51.009533Z"
    }
   },
   "outputs": [],
   "source": [
    "decomposition = StockModeler.decompose(nflx, 20) # 20 period frequency\n",
    "fig = decomposition.plot()\n",
    "fig.suptitle('Netflix Stock Price Time Series Decomposition', y=1)\n",
    "fig.set_figheight(6)\n",
    "fig.set_figwidth(10)\n",
    "fig.tight_layout()"
   ]
  },
  {
   "cell_type": "markdown",
   "metadata": {},
   "source": [
    "### ARIMA\n",
    "We can use ARIMA to model the performance with autoregressive (AR), differences or lagged data (I), and moving average (MA) terms. The autocorrelation plot can help find a good starting point for this:"
   ]
  },
  {
   "cell_type": "code",
   "execution_count": null,
   "metadata": {
    "ExecuteTime": {
     "end_time": "2022-03-26T11:19:51.010440Z",
     "start_time": "2022-03-26T11:19:51.010429Z"
    }
   },
   "outputs": [],
   "source": [
    "# we can use autocorrelation plots to find a good starting point for ARIMA\n",
    "from pandas.plotting import autocorrelation_plot\n",
    "autocorrelation_plot(nflx.close)"
   ]
  },
  {
   "cell_type": "markdown",
   "metadata": {},
   "source": [
    "Lag plots can also be helpful:"
   ]
  },
  {
   "cell_type": "code",
   "execution_count": null,
   "metadata": {
    "ExecuteTime": {
     "end_time": "2022-03-26T11:19:51.011559Z",
     "start_time": "2022-03-26T11:19:51.011547Z"
    }
   },
   "outputs": [],
   "source": [
    "from pandas.plotting import lag_plot\n",
    "lag_plot(nflx.close)"
   ]
  },
  {
   "cell_type": "markdown",
   "metadata": {},
   "source": [
    "ARIMA takes a long time to train, so we will start with an AR of 10:"
   ]
  },
  {
   "cell_type": "code",
   "execution_count": null,
   "metadata": {
    "ExecuteTime": {
     "end_time": "2022-03-26T11:19:51.012606Z",
     "start_time": "2022-03-26T11:19:51.012595Z"
    }
   },
   "outputs": [],
   "source": [
    "%%capture\n",
    "# this takes a long time to run, so we will start with a smaller AR of 10\n",
    "arima_model = StockModeler.arima(nflx, ar=10, i=1, ma=5)"
   ]
  },
  {
   "cell_type": "markdown",
   "metadata": {},
   "source": [
    "The `summary()` method shows statistics on the model's performance:"
   ]
  },
  {
   "cell_type": "code",
   "execution_count": null,
   "metadata": {
    "ExecuteTime": {
     "end_time": "2022-03-26T11:19:51.013637Z",
     "start_time": "2022-03-26T11:19:51.013625Z"
    }
   },
   "outputs": [],
   "source": [
    "# AR = 10, I = 1, MA = 5\n",
    "print(arima_model.summary())"
   ]
  },
  {
   "cell_type": "markdown",
   "metadata": {},
   "source": [
    "The residuals appear to be normally distributed (right subplot); however, their size appears to depend on time (left subplot), so this may not be a good model:"
   ]
  },
  {
   "cell_type": "code",
   "execution_count": null,
   "metadata": {
    "ExecuteTime": {
     "end_time": "2022-03-26T11:19:51.014759Z",
     "start_time": "2022-03-26T11:19:51.014746Z"
    }
   },
   "outputs": [],
   "source": [
    "StockModeler.plot_residuals(arima_model)"
   ]
  },
  {
   "cell_type": "markdown",
   "metadata": {},
   "source": [
    "### Linear Regression\n",
    "We can build a linear regression using the last value to determine the next value:"
   ]
  },
  {
   "cell_type": "code",
   "execution_count": null,
   "metadata": {
    "ExecuteTime": {
     "end_time": "2022-03-26T11:19:51.015771Z",
     "start_time": "2022-03-26T11:19:51.015759Z"
    }
   },
   "outputs": [],
   "source": [
    "X, Y, lm = StockModeler.regression(nflx)\n",
    "print(lm.summary())"
   ]
  },
  {
   "cell_type": "markdown",
   "metadata": {},
   "source": [
    "Once again, the residuals appear to depend on time:"
   ]
  },
  {
   "cell_type": "code",
   "execution_count": null,
   "metadata": {
    "ExecuteTime": {
     "end_time": "2022-03-26T11:19:51.016771Z",
     "start_time": "2022-03-26T11:19:51.016759Z"
    }
   },
   "outputs": [],
   "source": [
    "StockModeler.plot_residuals(lm)"
   ]
  },
  {
   "cell_type": "markdown",
   "metadata": {},
   "source": [
    "### Compare Models Against Actuals\n",
    "Let's see how these models compared to what actually happened:"
   ]
  },
  {
   "cell_type": "code",
   "execution_count": null,
   "metadata": {
    "ExecuteTime": {
     "end_time": "2022-03-26T11:19:51.017986Z",
     "start_time": "2022-03-26T11:19:51.017970Z"
    }
   },
   "outputs": [],
   "source": [
    "import datetime as dt\n",
    "\n",
    "start = dt.date(2021, 1, 1)\n",
    "end = dt.date(2021, 1, 14)\n",
    "\n",
    "jan = stock_analysis.StockReader(start, end).get_ticker_data('NFLX')\n",
    "\n",
    "fig, axes = plt.subplots(1, 2, figsize=(15, 5))\n",
    "\n",
    "arima_ax = StockModeler.arima_predictions(\n",
    "    nflx, arima_model, start=start, end=end,\n",
    "    ax=axes[0], title='ARIMA', color='b'\n",
    ")\n",
    "jan.close.plot(ax=arima_ax, style='b--', label='actual close')\n",
    "arima_ax.legend()\n",
    "arima_ax.set_ylabel('price ($)')\n",
    "\n",
    "linear_reg = StockModeler.regression_predictions(\n",
    "    nflx, lm, start=start, end=end,\n",
    "    ax=axes[1], title='Linear Regression', color='b'\n",
    ")\n",
    "jan.close.plot(ax=linear_reg, style='b--', label='actual close')\n",
    "linear_reg.legend()\n",
    "linear_reg.set_ylabel('price ($)')"
   ]
  },
  {
   "cell_type": "markdown",
   "metadata": {},
   "source": [
    "### Random Walks\n",
    "Prediction is difficult due to randomness. Stock price can be modeled as a [random walk](https://en.wikipedia.org/wiki/Random_walk). Can you find the real stock data? \n",
    "\n",
    "*Note: To get different results, pass in a number to the `seed` argument.*"
   ]
  },
  {
   "cell_type": "code",
   "execution_count": 9,
   "metadata": {
    "ExecuteTime": {
     "end_time": "2022-03-26T11:24:32.323158Z",
     "start_time": "2022-03-26T11:24:31.555937Z"
    }
   },
   "outputs": [
    {
     "ename": "NameError",
     "evalue": "name 'finance_viz' is not defined",
     "output_type": "error",
     "traceback": [
      "\u001b[0;31m---------------------------------------------------------------------------\u001b[0m",
      "\u001b[0;31mNameError\u001b[0m                                 Traceback (most recent call last)",
      "\u001b[0;32m/var/folders/tp/cprc7yhd7yb2lp3wd2q0myxr0000gn/T/ipykernel_4991/4159654075.py\u001b[0m in \u001b[0;36m<module>\u001b[0;34m\u001b[0m\n\u001b[1;32m      1\u001b[0m \u001b[0mmsft\u001b[0m \u001b[0;34m=\u001b[0m \u001b[0mstock_analysis\u001b[0m\u001b[0;34m.\u001b[0m\u001b[0mStockReader\u001b[0m\u001b[0;34m(\u001b[0m\u001b[0;34m'2019-07-01'\u001b[0m\u001b[0;34m,\u001b[0m \u001b[0;34m'2020-06-30'\u001b[0m\u001b[0;34m)\u001b[0m\u001b[0;34m.\u001b[0m\u001b[0mget_ticker_data\u001b[0m\u001b[0;34m(\u001b[0m\u001b[0;34m'MSFT'\u001b[0m\u001b[0;34m)\u001b[0m\u001b[0;34m\u001b[0m\u001b[0;34m\u001b[0m\u001b[0m\n\u001b[0;32m----> 2\u001b[0;31m \u001b[0mreal_stock\u001b[0m\u001b[0;34m,\u001b[0m \u001b[0maxes\u001b[0m \u001b[0;34m=\u001b[0m \u001b[0mfinance_viz\u001b[0m\u001b[0;34m.\u001b[0m\u001b[0mrandom_walk_stock_comparison\u001b[0m\u001b[0;34m(\u001b[0m\u001b[0mmsft\u001b[0m\u001b[0;34m,\u001b[0m \u001b[0mprobs\u001b[0m\u001b[0;34m=\u001b[0m\u001b[0;34m[\u001b[0m\u001b[0;36m0.45\u001b[0m\u001b[0;34m,\u001b[0m \u001b[0;36m0.55\u001b[0m\u001b[0;34m]\u001b[0m\u001b[0;34m)\u001b[0m\u001b[0;34m\u001b[0m\u001b[0;34m\u001b[0m\u001b[0m\n\u001b[0m\u001b[1;32m      3\u001b[0m \u001b[0mplt\u001b[0m\u001b[0;34m.\u001b[0m\u001b[0mshow\u001b[0m\u001b[0;34m(\u001b[0m\u001b[0;34m)\u001b[0m\u001b[0;34m\u001b[0m\u001b[0;34m\u001b[0m\u001b[0m\n",
      "\u001b[0;31mNameError\u001b[0m: name 'finance_viz' is not defined"
     ]
    }
   ],
   "source": [
    "msft = stock_analysis.StockReader('2019-07-01', '2020-06-30').get_ticker_data('MSFT')\n",
    "real_stock, axes = finance_viz.random_walk_stock_comparison(msft, probs=[0.45, 0.55])\n",
    "plt.show()"
   ]
  },
  {
   "cell_type": "markdown",
   "metadata": {},
   "source": [
    "Was your guess correct?"
   ]
  },
  {
   "cell_type": "code",
   "execution_count": null,
   "metadata": {
    "ExecuteTime": {
     "end_time": "2022-03-26T11:19:51.020056Z",
     "start_time": "2022-03-26T11:19:51.020044Z"
    }
   },
   "outputs": [],
   "source": [
    "real_stock"
   ]
  },
  {
   "cell_type": "markdown",
   "metadata": {},
   "source": [
    "<hr>\n",
    "<div style=\"overflow: hidden; margin-bottom: 10px;\">\n",
    "    <div style=\"float: left;\">\n",
    "         <a href=\"../ch_06/3-customizing_visualizations.ipynb\">\n",
    "            <button>&#8592; Chapter 6</button>\n",
    "        </a>\n",
    "    </div>\n",
    "    <div style=\"float: right;\">\n",
    "        <a href=\"../../solutions/ch_07/solutions.ipynb\">\n",
    "            <button>Solutions</button>\n",
    "        </a>\n",
    "        <a href=\"../ch_08/anomaly_detection.ipynb\">\n",
    "            <button>Chapter 8 &#8594;</button>\n",
    "        </a>\n",
    "    </div>\n",
    "</div>\n",
    "<hr>"
   ]
  }
 ],
 "metadata": {
  "kernelspec": {
   "display_name": "Python 3 (ipykernel)",
   "language": "python",
   "name": "python3"
  },
  "language_info": {
   "codemirror_mode": {
    "name": "ipython",
    "version": 3
   },
   "file_extension": ".py",
   "mimetype": "text/x-python",
   "name": "python",
   "nbconvert_exporter": "python",
   "pygments_lexer": "ipython3",
   "version": "3.7.11"
  },
  "varInspector": {
   "cols": {
    "lenName": 16,
    "lenType": 16,
    "lenVar": 40
   },
   "kernels_config": {
    "python": {
     "delete_cmd_postfix": "",
     "delete_cmd_prefix": "del ",
     "library": "var_list.py",
     "varRefreshCmd": "print(var_dic_list())"
    },
    "r": {
     "delete_cmd_postfix": ") ",
     "delete_cmd_prefix": "rm(",
     "library": "var_list.r",
     "varRefreshCmd": "cat(var_dic_list()) "
    }
   },
   "types_to_exclude": [
    "module",
    "function",
    "builtin_function_or_method",
    "instance",
    "_Feature"
   ],
   "window_display": false
  }
 },
 "nbformat": 4,
 "nbformat_minor": 4
}
